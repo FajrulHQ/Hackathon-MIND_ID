{
 "metadata": {
  "language_info": {
   "codemirror_mode": {
    "name": "ipython",
    "version": 3
   },
   "file_extension": ".py",
   "mimetype": "text/x-python",
   "name": "python",
   "nbconvert_exporter": "python",
   "pygments_lexer": "ipython3",
   "version": "3.8.2-final"
  },
  "orig_nbformat": 2,
  "kernelspec": {
   "name": "python38264bitcba4a04194b1445a8015f4265712b4dc",
   "display_name": "Python 3.8.2 64-bit"
  }
 },
 "nbformat": 4,
 "nbformat_minor": 2,
 "cells": [
  {
   "cell_type": "code",
   "execution_count": 1,
   "metadata": {},
   "outputs": [],
   "source": [
    "import pandas as pd\n",
    "import json\n",
    "from urllib import request"
   ]
  },
  {
   "cell_type": "code",
   "execution_count": 2,
   "metadata": {},
   "outputs": [],
   "source": [
    "with open(r'D:\\test.json') as json_file:\n",
    "    data = json.loads(json_file.read())"
   ]
  },
  {
   "cell_type": "code",
   "execution_count": 90,
   "metadata": {},
   "outputs": [],
   "source": [
    "url = \"https://geoportal.esdm.go.id/gis4/rest/services/bgl_bgd_tu/BGL_BGD_TU_Potensi_Mineral_Logam/MapServer/0/query?f=json&returnGeometry=true&spatialRel=esriSpatialRelIntersects&geometry=%7B%22xmin%22%3A10620466.458049776%2C%22ymin%22%3A-24459.849048266064%2C%22xmax%22%3A11295558.291864278%2C%22ymax%22%3A650631.9847662355%2C%22spatialReference%22%3A%7B%22wkid%22%3A102100%7D%7D&geometryType=esriGeometryEnvelope&inSR=102100&outFields=*&returnCentroid=false&returnExceededLimitFeatures=false&outSR=102100&quantizationParameters=%7B%22mode%22%3A%22view%22%2C%22originPosition%22%3A%22upperLeft%22%2C%22tolerance%22%3A1222.992452562501%2C%22extent%22%3A%7B%22xmin%22%3A10644926.307101026%2C%22ymin%22%3A0.000002983957529067993%2C%22xmax%22%3A11271098.442813028%2C%22ymax%22%3A626172.1357149845%2C%22spatialReference%22%3A%7B%22wkid%22%3A102100%7D%7D%7D\"\n",
    "\n",
    "response = request.urlopen(url)\n",
    "data = json.loads(response.read())"
   ]
  },
  {
   "cell_type": "code",
   "execution_count": 91,
   "metadata": {
    "tags": []
   },
   "outputs": [],
   "source": [
    "geo = []\n",
    "atr = []\n",
    "scl = []\n",
    "for items in data['features']:\n",
    "    geo.append(items['geometry'])\n",
    "    atr.append(items['attributes'])\n",
    "\n",
    "scl1 = data['transform']['scale'][0]\n",
    "scl2 = data['transform']['scale'][1]\n",
    "tr1 = data['transform']['translate'][0]\n",
    "tr2 = data['transform']['translate'][1]"
   ]
  },
  {
   "cell_type": "code",
   "execution_count": 92,
   "metadata": {
    "tags": []
   },
   "outputs": [
    {
     "output_type": "stream",
     "name": "stdout",
     "text": "1222.992452562501 1222.992452562501 10644926.307101026 626172.1357149845\n"
    }
   ],
   "source": [
    "print(scl1,scl2,tr1,tr2)"
   ]
  },
  {
   "cell_type": "code",
   "execution_count": 98,
   "metadata": {},
   "outputs": [
    {
     "output_type": "execute_result",
     "data": {
      "text/plain": "     objectid  no_lokasi     komoditi                                  lokasi  \\\n0          96         69      Tembaga   East dan Outet East Porpyry (Beutong)   \n1         108         81      Tembaga  West dan Outet West Porphyry (Beutong)   \n2         109         82      Tembaga                         Skarn (Beutong)   \n3         110         83      Tembaga                         Tengkereng Hulu   \n4         465          1       Timbal                                  Tangse   \n..        ...        ...          ...                                     ...   \n105       472          8       Timbal                            Tanjungbalit   \n106       498         34       Timbal                    Nagari Tanjung Balik   \n107       512          2  Emas Plaser                         Sungai Sengingi   \n108       974         15        Perak                            Tanjungbalit   \n109      2366          1        Timah                              Pangarayan   \n\n               kecamatan       kabupaten        propinsi        tkt__penye  \\\n0                Beutong      Nagan Raya            Aceh  Eksplorasi Rinci   \n1                Beutong      Nagan Raya            Aceh  Eksplorasi Rinci   \n2                Beutong      Nagan Raya            Aceh  Eksplorasi Rinci   \n3             Rikit Gaib       Gayo Lues            Aceh   Eksplorasi Umum   \n4                 Tangse           Pidie            Aceh  Eksplorasi Rinci   \n..                   ...             ...             ...               ...   \n105  Pangkalan Koto Baru  Limapuluh Koto  Sumatera Barat  Eksplorasi Rinci   \n106  Pangkalan Koto Baru  Limapuluh Koto  Sumatera Barat  Operasi Produksi   \n107          Kampar Kiri          Kampar            Riau  Eksplorasi Rinci   \n108  Pangkalan Koto Baru  Limapuluh Koto  Sumatera Barat  Eksplorasi Rinci   \n109               Tandun      Rokan Hulu            Riau         Prospeksi   \n\n     bjh_hip  log_hip  ...  bjh_tjuk  log_tjuk  bjh_tkur  log_tkur  bjh_tkra  \\\n0          0        0  ...         0       0.0         0       0.0         0   \n1          0        0  ...         0       0.0         0       0.0         0   \n2          0        0  ...         0       0.0         0       0.0         0   \n3          0        0  ...         0       0.0         0       0.0         0   \n4          0        0  ...         0       0.0     53007   37900.0         0   \n..       ...      ...  ...       ...       ...       ...       ...       ...   \n105        0        0  ...         0       0.0    918101   41589.0         0   \n106        0        0  ...    690601   44098.0    422713   47694.0    940063   \n107        0        0  ...         0       0.0  59470542       6.0         0   \n108        0        0  ...         0       0.0    918101      10.0         0   \n109        0        0  ...         0       0.0         0       0.0         0   \n\n     log_tkra  bjh_tkti  log_tkti  \\\n0         0.0         0       0.0   \n1         0.0         0       0.0   \n2         0.0         0       0.0   \n3         0.0         0       0.0   \n4         0.0         0       0.0   \n..        ...       ...       ...   \n105       0.0         0       0.0   \n106   51053.0         0       0.0   \n107       0.0         0       0.0   \n108       0.0         0       0.0   \n109       0.0         0       0.0   \n\n                                            keterangan  \\\n0                                      Tembaga Porfiri   \n1                                      Tembaga Porfiri   \n2                                      Tembaga Porfiri   \n3                                        Porfiri Cu-Au   \n4    Tipe porfiri pd bt induk diorit kuarsa dengan ...   \n..                                                 ...   \n105  Tipe skarn, lensa bijih dlm serpih & grewake d...   \n106                                                      \n107                 Aluvial dengan kadar Au=0,28 gr/m3   \n108  Tipe skarn,lensa bj dlm serpih & grewake denga...   \n109          Aluvial, kadar rata-rata: 154.41 gr/m3 Sn   \n\n                                            sumber_dat  \n0    Technical Report Beutong Mineralization, Novem...  \n1    Technical Report Beutong Mineralization, Novem...  \n2    Technical Report Beutong Mineralization, Novem...  \n3                 PT Gayo Mineral Resources, RKAB 2018  \n4                      PT Riotinto (Person, Com, 1984)  \n..                                                 ...  \n105  Theo M. van Leeuwen, 1993; 25 Years of Mineral...  \n106  PT Berkat Bhineka Perkasa, Laporan Eksplorasi ...  \n107                                                     \n108  Theo M. van Leeuwen, 1993; 25 Years of Mineral...  \n109  PSDG-KPP Konservasi, Laporan penelitian aspek ...  \n\n[110 rows x 22 columns]",
      "text/html": "<div>\n<style scoped>\n    .dataframe tbody tr th:only-of-type {\n        vertical-align: middle;\n    }\n\n    .dataframe tbody tr th {\n        vertical-align: top;\n    }\n\n    .dataframe thead th {\n        text-align: right;\n    }\n</style>\n<table border=\"1\" class=\"dataframe\">\n  <thead>\n    <tr style=\"text-align: right;\">\n      <th></th>\n      <th>objectid</th>\n      <th>no_lokasi</th>\n      <th>komoditi</th>\n      <th>lokasi</th>\n      <th>kecamatan</th>\n      <th>kabupaten</th>\n      <th>propinsi</th>\n      <th>tkt__penye</th>\n      <th>bjh_hip</th>\n      <th>log_hip</th>\n      <th>...</th>\n      <th>bjh_tjuk</th>\n      <th>log_tjuk</th>\n      <th>bjh_tkur</th>\n      <th>log_tkur</th>\n      <th>bjh_tkra</th>\n      <th>log_tkra</th>\n      <th>bjh_tkti</th>\n      <th>log_tkti</th>\n      <th>keterangan</th>\n      <th>sumber_dat</th>\n    </tr>\n  </thead>\n  <tbody>\n    <tr>\n      <th>0</th>\n      <td>96</td>\n      <td>69</td>\n      <td>Tembaga</td>\n      <td>East dan Outet East Porpyry (Beutong)</td>\n      <td>Beutong</td>\n      <td>Nagan Raya</td>\n      <td>Aceh</td>\n      <td>Eksplorasi Rinci</td>\n      <td>0</td>\n      <td>0</td>\n      <td>...</td>\n      <td>0</td>\n      <td>0.0</td>\n      <td>0</td>\n      <td>0.0</td>\n      <td>0</td>\n      <td>0.0</td>\n      <td>0</td>\n      <td>0.0</td>\n      <td>Tembaga Porfiri</td>\n      <td>Technical Report Beutong Mineralization, Novem...</td>\n    </tr>\n    <tr>\n      <th>1</th>\n      <td>108</td>\n      <td>81</td>\n      <td>Tembaga</td>\n      <td>West dan Outet West Porphyry (Beutong)</td>\n      <td>Beutong</td>\n      <td>Nagan Raya</td>\n      <td>Aceh</td>\n      <td>Eksplorasi Rinci</td>\n      <td>0</td>\n      <td>0</td>\n      <td>...</td>\n      <td>0</td>\n      <td>0.0</td>\n      <td>0</td>\n      <td>0.0</td>\n      <td>0</td>\n      <td>0.0</td>\n      <td>0</td>\n      <td>0.0</td>\n      <td>Tembaga Porfiri</td>\n      <td>Technical Report Beutong Mineralization, Novem...</td>\n    </tr>\n    <tr>\n      <th>2</th>\n      <td>109</td>\n      <td>82</td>\n      <td>Tembaga</td>\n      <td>Skarn (Beutong)</td>\n      <td>Beutong</td>\n      <td>Nagan Raya</td>\n      <td>Aceh</td>\n      <td>Eksplorasi Rinci</td>\n      <td>0</td>\n      <td>0</td>\n      <td>...</td>\n      <td>0</td>\n      <td>0.0</td>\n      <td>0</td>\n      <td>0.0</td>\n      <td>0</td>\n      <td>0.0</td>\n      <td>0</td>\n      <td>0.0</td>\n      <td>Tembaga Porfiri</td>\n      <td>Technical Report Beutong Mineralization, Novem...</td>\n    </tr>\n    <tr>\n      <th>3</th>\n      <td>110</td>\n      <td>83</td>\n      <td>Tembaga</td>\n      <td>Tengkereng Hulu</td>\n      <td>Rikit Gaib</td>\n      <td>Gayo Lues</td>\n      <td>Aceh</td>\n      <td>Eksplorasi Umum</td>\n      <td>0</td>\n      <td>0</td>\n      <td>...</td>\n      <td>0</td>\n      <td>0.0</td>\n      <td>0</td>\n      <td>0.0</td>\n      <td>0</td>\n      <td>0.0</td>\n      <td>0</td>\n      <td>0.0</td>\n      <td>Porfiri Cu-Au</td>\n      <td>PT Gayo Mineral Resources, RKAB 2018</td>\n    </tr>\n    <tr>\n      <th>4</th>\n      <td>465</td>\n      <td>1</td>\n      <td>Timbal</td>\n      <td>Tangse</td>\n      <td>Tangse</td>\n      <td>Pidie</td>\n      <td>Aceh</td>\n      <td>Eksplorasi Rinci</td>\n      <td>0</td>\n      <td>0</td>\n      <td>...</td>\n      <td>0</td>\n      <td>0.0</td>\n      <td>53007</td>\n      <td>37900.0</td>\n      <td>0</td>\n      <td>0.0</td>\n      <td>0</td>\n      <td>0.0</td>\n      <td>Tipe porfiri pd bt induk diorit kuarsa dengan ...</td>\n      <td>PT Riotinto (Person, Com, 1984)</td>\n    </tr>\n    <tr>\n      <th>...</th>\n      <td>...</td>\n      <td>...</td>\n      <td>...</td>\n      <td>...</td>\n      <td>...</td>\n      <td>...</td>\n      <td>...</td>\n      <td>...</td>\n      <td>...</td>\n      <td>...</td>\n      <td>...</td>\n      <td>...</td>\n      <td>...</td>\n      <td>...</td>\n      <td>...</td>\n      <td>...</td>\n      <td>...</td>\n      <td>...</td>\n      <td>...</td>\n      <td>...</td>\n      <td>...</td>\n    </tr>\n    <tr>\n      <th>105</th>\n      <td>472</td>\n      <td>8</td>\n      <td>Timbal</td>\n      <td>Tanjungbalit</td>\n      <td>Pangkalan Koto Baru</td>\n      <td>Limapuluh Koto</td>\n      <td>Sumatera Barat</td>\n      <td>Eksplorasi Rinci</td>\n      <td>0</td>\n      <td>0</td>\n      <td>...</td>\n      <td>0</td>\n      <td>0.0</td>\n      <td>918101</td>\n      <td>41589.0</td>\n      <td>0</td>\n      <td>0.0</td>\n      <td>0</td>\n      <td>0.0</td>\n      <td>Tipe skarn, lensa bijih dlm serpih &amp; grewake d...</td>\n      <td>Theo M. van Leeuwen, 1993; 25 Years of Mineral...</td>\n    </tr>\n    <tr>\n      <th>106</th>\n      <td>498</td>\n      <td>34</td>\n      <td>Timbal</td>\n      <td>Nagari Tanjung Balik</td>\n      <td>Pangkalan Koto Baru</td>\n      <td>Limapuluh Koto</td>\n      <td>Sumatera Barat</td>\n      <td>Operasi Produksi</td>\n      <td>0</td>\n      <td>0</td>\n      <td>...</td>\n      <td>690601</td>\n      <td>44098.0</td>\n      <td>422713</td>\n      <td>47694.0</td>\n      <td>940063</td>\n      <td>51053.0</td>\n      <td>0</td>\n      <td>0.0</td>\n      <td></td>\n      <td>PT Berkat Bhineka Perkasa, Laporan Eksplorasi ...</td>\n    </tr>\n    <tr>\n      <th>107</th>\n      <td>512</td>\n      <td>2</td>\n      <td>Emas Plaser</td>\n      <td>Sungai Sengingi</td>\n      <td>Kampar Kiri</td>\n      <td>Kampar</td>\n      <td>Riau</td>\n      <td>Eksplorasi Rinci</td>\n      <td>0</td>\n      <td>0</td>\n      <td>...</td>\n      <td>0</td>\n      <td>0.0</td>\n      <td>59470542</td>\n      <td>6.0</td>\n      <td>0</td>\n      <td>0.0</td>\n      <td>0</td>\n      <td>0.0</td>\n      <td>Aluvial dengan kadar Au=0,28 gr/m3</td>\n      <td></td>\n    </tr>\n    <tr>\n      <th>108</th>\n      <td>974</td>\n      <td>15</td>\n      <td>Perak</td>\n      <td>Tanjungbalit</td>\n      <td>Pangkalan Koto Baru</td>\n      <td>Limapuluh Koto</td>\n      <td>Sumatera Barat</td>\n      <td>Eksplorasi Rinci</td>\n      <td>0</td>\n      <td>0</td>\n      <td>...</td>\n      <td>0</td>\n      <td>0.0</td>\n      <td>918101</td>\n      <td>10.0</td>\n      <td>0</td>\n      <td>0.0</td>\n      <td>0</td>\n      <td>0.0</td>\n      <td>Tipe skarn,lensa bj dlm serpih &amp; grewake denga...</td>\n      <td>Theo M. van Leeuwen, 1993; 25 Years of Mineral...</td>\n    </tr>\n    <tr>\n      <th>109</th>\n      <td>2366</td>\n      <td>1</td>\n      <td>Timah</td>\n      <td>Pangarayan</td>\n      <td>Tandun</td>\n      <td>Rokan Hulu</td>\n      <td>Riau</td>\n      <td>Prospeksi</td>\n      <td>0</td>\n      <td>0</td>\n      <td>...</td>\n      <td>0</td>\n      <td>0.0</td>\n      <td>0</td>\n      <td>0.0</td>\n      <td>0</td>\n      <td>0.0</td>\n      <td>0</td>\n      <td>0.0</td>\n      <td>Aluvial, kadar rata-rata: 154.41 gr/m3 Sn</td>\n      <td>PSDG-KPP Konservasi, Laporan penelitian aspek ...</td>\n    </tr>\n  </tbody>\n</table>\n<p>110 rows × 22 columns</p>\n</div>"
     },
     "metadata": {},
     "execution_count": 98
    }
   ],
   "source": [
    "pd.DataFrame(atr)"
   ]
  },
  {
   "cell_type": "code",
   "execution_count": 93,
   "metadata": {},
   "outputs": [
    {
     "output_type": "execute_result",
     "data": {
      "text/plain": "  komoditi                                  lokasi   kabupaten propinsi  \\\n0  Tembaga   East dan Outet East Porpyry (Beutong)  Nagan Raya     Aceh   \n1  Tembaga  West dan Outet West Porphyry (Beutong)  Nagan Raya     Aceh   \n2  Tembaga                         Skarn (Beutong)  Nagan Raya     Aceh   \n3  Tembaga                         Tengkereng Hulu   Gayo Lues     Aceh   \n4   Timbal                                  Tangse       Pidie     Aceh   \n\n                                          keterangan  \\\n0                                    Tembaga Porfiri   \n1                                    Tembaga Porfiri   \n2                                    Tembaga Porfiri   \n3                                      Porfiri Cu-Au   \n4  Tipe porfiri pd bt induk diorit kuarsa dengan ...   \n\n                                          sumber_dat  \n0  Technical Report Beutong Mineralization, Novem...  \n1  Technical Report Beutong Mineralization, Novem...  \n2  Technical Report Beutong Mineralization, Novem...  \n3               PT Gayo Mineral Resources, RKAB 2018  \n4                    PT Riotinto (Person, Com, 1984)  ",
      "text/html": "<div>\n<style scoped>\n    .dataframe tbody tr th:only-of-type {\n        vertical-align: middle;\n    }\n\n    .dataframe tbody tr th {\n        vertical-align: top;\n    }\n\n    .dataframe thead th {\n        text-align: right;\n    }\n</style>\n<table border=\"1\" class=\"dataframe\">\n  <thead>\n    <tr style=\"text-align: right;\">\n      <th></th>\n      <th>komoditi</th>\n      <th>lokasi</th>\n      <th>kabupaten</th>\n      <th>propinsi</th>\n      <th>keterangan</th>\n      <th>sumber_dat</th>\n    </tr>\n  </thead>\n  <tbody>\n    <tr>\n      <th>0</th>\n      <td>Tembaga</td>\n      <td>East dan Outet East Porpyry (Beutong)</td>\n      <td>Nagan Raya</td>\n      <td>Aceh</td>\n      <td>Tembaga Porfiri</td>\n      <td>Technical Report Beutong Mineralization, Novem...</td>\n    </tr>\n    <tr>\n      <th>1</th>\n      <td>Tembaga</td>\n      <td>West dan Outet West Porphyry (Beutong)</td>\n      <td>Nagan Raya</td>\n      <td>Aceh</td>\n      <td>Tembaga Porfiri</td>\n      <td>Technical Report Beutong Mineralization, Novem...</td>\n    </tr>\n    <tr>\n      <th>2</th>\n      <td>Tembaga</td>\n      <td>Skarn (Beutong)</td>\n      <td>Nagan Raya</td>\n      <td>Aceh</td>\n      <td>Tembaga Porfiri</td>\n      <td>Technical Report Beutong Mineralization, Novem...</td>\n    </tr>\n    <tr>\n      <th>3</th>\n      <td>Tembaga</td>\n      <td>Tengkereng Hulu</td>\n      <td>Gayo Lues</td>\n      <td>Aceh</td>\n      <td>Porfiri Cu-Au</td>\n      <td>PT Gayo Mineral Resources, RKAB 2018</td>\n    </tr>\n    <tr>\n      <th>4</th>\n      <td>Timbal</td>\n      <td>Tangse</td>\n      <td>Pidie</td>\n      <td>Aceh</td>\n      <td>Tipe porfiri pd bt induk diorit kuarsa dengan ...</td>\n      <td>PT Riotinto (Person, Com, 1984)</td>\n    </tr>\n  </tbody>\n</table>\n</div>"
     },
     "metadata": {},
     "execution_count": 93
    }
   ],
   "source": [
    "df = pd.DataFrame(atr)[['komoditi','lokasi','kabupaten','propinsi','keterangan','sumber_dat']]\n",
    "df.head()"
   ]
  },
  {
   "cell_type": "code",
   "execution_count": 94,
   "metadata": {
    "tags": []
   },
   "outputs": [
    {
     "output_type": "stream",
     "name": "stdout",
     "text": "95.62499999994826 5.615985819180549\n"
    }
   ],
   "source": [
    "from pyproj import Proj, transform\n",
    "\n",
    "inProj = Proj(init='epsg:3857')\n",
    "outProj = Proj(init='epsg:4326')\n",
    "t1,t2 = tr1 ,tr2\n",
    "t1,t2 = transform(inProj,outProj,tr1,tr2)\n",
    "print (t1,t2)"
   ]
  },
  {
   "cell_type": "code",
   "execution_count": 95,
   "metadata": {
    "tags": []
   },
   "outputs": [],
   "source": [
    "df_geo = pd.DataFrame(geo)\n",
    "df_geo['x'] = df_geo['x']*scl1\n",
    "df_geo['y'] = df_geo['y']*scl2\n",
    "lon = []\n",
    "lat = []\n",
    "inProj = Proj(init='epsg:3857')\n",
    "outProj = Proj(init='epsg:4326')\n",
    "for i in range(len(df_geo)):\n",
    "    x1,y1 = df_geo['x'][i],df_geo['y'][i]\n",
    "    x2,y2 = transform(inProj,outProj,x1,y1)\n",
    "    x2 = t1 + x2\n",
    "    y2 = t2 - y2\n",
    "    lon.append(x2)\n",
    "    lat.append(y2)"
   ]
  },
  {
   "cell_type": "code",
   "execution_count": 96,
   "metadata": {},
   "outputs": [
    {
     "output_type": "execute_result",
     "data": {
      "text/plain": "        komoditi                lokasi       kabupaten        propinsi  \\\n105       Timbal          Tanjungbalit  Limapuluh Koto  Sumatera Barat   \n106       Timbal  Nagari Tanjung Balik  Limapuluh Koto  Sumatera Barat   \n107  Emas Plaser       Sungai Sengingi          Kampar            Riau   \n108        Perak          Tanjungbalit  Limapuluh Koto  Sumatera Barat   \n109        Timah            Pangarayan      Rokan Hulu            Riau   \n\n                                            keterangan  \\\n105  Tipe skarn, lensa bijih dlm serpih & grewake d...   \n106                                                      \n107                 Aluvial dengan kadar Au=0,28 gr/m3   \n108  Tipe skarn,lensa bj dlm serpih & grewake denga...   \n109          Aluvial, kadar rata-rata: 154.41 gr/m3 Sn   \n\n                                            sumber_dat         lon       lat  \n105  Theo M. van Leeuwen, 1993; 25 Years of Mineral...  100.711670  0.076540  \n106  PT Berkat Bhineka Perkasa, Laporan Eksplorasi ...  100.821533  0.174964  \n107                                                     101.041260 -0.087462  \n108  Theo M. van Leeuwen, 1993; 25 Years of Mineral...  100.711670  0.076540  \n109  PSDG-KPP Konservasi, Laporan penelitian aspek ...  100.711670  0.448445  ",
      "text/html": "<div>\n<style scoped>\n    .dataframe tbody tr th:only-of-type {\n        vertical-align: middle;\n    }\n\n    .dataframe tbody tr th {\n        vertical-align: top;\n    }\n\n    .dataframe thead th {\n        text-align: right;\n    }\n</style>\n<table border=\"1\" class=\"dataframe\">\n  <thead>\n    <tr style=\"text-align: right;\">\n      <th></th>\n      <th>komoditi</th>\n      <th>lokasi</th>\n      <th>kabupaten</th>\n      <th>propinsi</th>\n      <th>keterangan</th>\n      <th>sumber_dat</th>\n      <th>lon</th>\n      <th>lat</th>\n    </tr>\n  </thead>\n  <tbody>\n    <tr>\n      <th>105</th>\n      <td>Timbal</td>\n      <td>Tanjungbalit</td>\n      <td>Limapuluh Koto</td>\n      <td>Sumatera Barat</td>\n      <td>Tipe skarn, lensa bijih dlm serpih &amp; grewake d...</td>\n      <td>Theo M. van Leeuwen, 1993; 25 Years of Mineral...</td>\n      <td>100.711670</td>\n      <td>0.076540</td>\n    </tr>\n    <tr>\n      <th>106</th>\n      <td>Timbal</td>\n      <td>Nagari Tanjung Balik</td>\n      <td>Limapuluh Koto</td>\n      <td>Sumatera Barat</td>\n      <td></td>\n      <td>PT Berkat Bhineka Perkasa, Laporan Eksplorasi ...</td>\n      <td>100.821533</td>\n      <td>0.174964</td>\n    </tr>\n    <tr>\n      <th>107</th>\n      <td>Emas Plaser</td>\n      <td>Sungai Sengingi</td>\n      <td>Kampar</td>\n      <td>Riau</td>\n      <td>Aluvial dengan kadar Au=0,28 gr/m3</td>\n      <td></td>\n      <td>101.041260</td>\n      <td>-0.087462</td>\n    </tr>\n    <tr>\n      <th>108</th>\n      <td>Perak</td>\n      <td>Tanjungbalit</td>\n      <td>Limapuluh Koto</td>\n      <td>Sumatera Barat</td>\n      <td>Tipe skarn,lensa bj dlm serpih &amp; grewake denga...</td>\n      <td>Theo M. van Leeuwen, 1993; 25 Years of Mineral...</td>\n      <td>100.711670</td>\n      <td>0.076540</td>\n    </tr>\n    <tr>\n      <th>109</th>\n      <td>Timah</td>\n      <td>Pangarayan</td>\n      <td>Rokan Hulu</td>\n      <td>Riau</td>\n      <td>Aluvial, kadar rata-rata: 154.41 gr/m3 Sn</td>\n      <td>PSDG-KPP Konservasi, Laporan penelitian aspek ...</td>\n      <td>100.711670</td>\n      <td>0.448445</td>\n    </tr>\n  </tbody>\n</table>\n</div>"
     },
     "metadata": {},
     "execution_count": 96
    }
   ],
   "source": [
    "df['lon'] = lon\n",
    "df['lat'] = lat\n",
    "df.tail()"
   ]
  },
  {
   "cell_type": "code",
   "execution_count": 97,
   "metadata": {
    "tags": []
   },
   "outputs": [],
   "source": [
    "for i in range(len(df)):\n",
    "    row = list(df.iloc[i])\n",
    "    append_list_as_row('database.csv',row)"
   ]
  },
  {
   "cell_type": "code",
   "execution_count": 36,
   "metadata": {},
   "outputs": [],
   "source": [
    "from csv import writer\n",
    "\n",
    "def append_list_as_row(file_name, list_of_elem):\n",
    "    # Open file in append mode\n",
    "    with open(file_name, 'a+', newline='') as write_obj:\n",
    "        # Create a writer object from csv module\n",
    "        csv_writer = writer(write_obj)\n",
    "        # Add contents of list as last row in the csv file\n",
    "        csv_writer.writerow(list_of_elem)"
   ]
  },
  {
   "cell_type": "code",
   "execution_count": 37,
   "metadata": {},
   "outputs": [
    {
     "output_type": "execute_result",
     "data": {
      "text/plain": "    komoditi                      lokasi         kabupaten      propinsi  \\\n450    Nikel                    Wasile 2  Halmahera Tengah  Maluku Utara   \n451    Nikel  Pulau Gag (Zona Timurlaut)        Raja Ampat   Papua Barat   \n452    Nikel  Pulau Gag (Zona Baratlaut)        Raja Ampat   Papua Barat   \n453    Nikel                    Ubulie 1  Halmahera Tengah  Maluku Utara   \n454    Nikel                   Lelilef 1  Halmahera Tengah  Maluku Utara   \n\n                                            keterangan  \\\n450                                   Kadar Ni  1,32 %   \n451                                  Kadar nikel 1,65%   \n452                                  Kadar nikel 1,65%   \n453  Blok A1, B1 dan C1 limonit dan saprolit, kadar...   \n454                            Tidak ada data kadar Ni   \n\n                                            sumber_dat         lon       lat  \n450    PT Mega Haltim Mineral, Laporan RKAB TAhun 2018  127.924805  0.694623  \n451  PT Gag Nikel, Revisi Laporan Studi Kelayakan T...  129.902344 -0.407030  \n452  PT Gag Nikel, Revisi Laporan Studi Kelayakan T...  129.858398 -0.407030  \n453         PT Mineral Trobos, Laporan RKAB Tahun 2019  129.375000 -0.040756  \n454  PT Karya Siaga, Laporan RKAB Tahun 2019 (Tabul...  127.924805  0.571801  ",
      "text/html": "<div>\n<style scoped>\n    .dataframe tbody tr th:only-of-type {\n        vertical-align: middle;\n    }\n\n    .dataframe tbody tr th {\n        vertical-align: top;\n    }\n\n    .dataframe thead th {\n        text-align: right;\n    }\n</style>\n<table border=\"1\" class=\"dataframe\">\n  <thead>\n    <tr style=\"text-align: right;\">\n      <th></th>\n      <th>komoditi</th>\n      <th>lokasi</th>\n      <th>kabupaten</th>\n      <th>propinsi</th>\n      <th>keterangan</th>\n      <th>sumber_dat</th>\n      <th>lon</th>\n      <th>lat</th>\n    </tr>\n  </thead>\n  <tbody>\n    <tr>\n      <th>450</th>\n      <td>Nikel</td>\n      <td>Wasile 2</td>\n      <td>Halmahera Tengah</td>\n      <td>Maluku Utara</td>\n      <td>Kadar Ni  1,32 %</td>\n      <td>PT Mega Haltim Mineral, Laporan RKAB TAhun 2018</td>\n      <td>127.924805</td>\n      <td>0.694623</td>\n    </tr>\n    <tr>\n      <th>451</th>\n      <td>Nikel</td>\n      <td>Pulau Gag (Zona Timurlaut)</td>\n      <td>Raja Ampat</td>\n      <td>Papua Barat</td>\n      <td>Kadar nikel 1,65%</td>\n      <td>PT Gag Nikel, Revisi Laporan Studi Kelayakan T...</td>\n      <td>129.902344</td>\n      <td>-0.407030</td>\n    </tr>\n    <tr>\n      <th>452</th>\n      <td>Nikel</td>\n      <td>Pulau Gag (Zona Baratlaut)</td>\n      <td>Raja Ampat</td>\n      <td>Papua Barat</td>\n      <td>Kadar nikel 1,65%</td>\n      <td>PT Gag Nikel, Revisi Laporan Studi Kelayakan T...</td>\n      <td>129.858398</td>\n      <td>-0.407030</td>\n    </tr>\n    <tr>\n      <th>453</th>\n      <td>Nikel</td>\n      <td>Ubulie 1</td>\n      <td>Halmahera Tengah</td>\n      <td>Maluku Utara</td>\n      <td>Blok A1, B1 dan C1 limonit dan saprolit, kadar...</td>\n      <td>PT Mineral Trobos, Laporan RKAB Tahun 2019</td>\n      <td>129.375000</td>\n      <td>-0.040756</td>\n    </tr>\n    <tr>\n      <th>454</th>\n      <td>Nikel</td>\n      <td>Lelilef 1</td>\n      <td>Halmahera Tengah</td>\n      <td>Maluku Utara</td>\n      <td>Tidak ada data kadar Ni</td>\n      <td>PT Karya Siaga, Laporan RKAB Tahun 2019 (Tabul...</td>\n      <td>127.924805</td>\n      <td>0.571801</td>\n    </tr>\n  </tbody>\n</table>\n</div>"
     },
     "metadata": {},
     "execution_count": 37
    }
   ],
   "source": [
    "df.tail()"
   ]
  },
  {
   "cell_type": "code",
   "execution_count": null,
   "metadata": {},
   "outputs": [],
   "source": []
  }
 ]
}